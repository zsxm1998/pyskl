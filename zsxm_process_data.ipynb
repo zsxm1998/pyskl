{
 "cells": [
  {
   "cell_type": "code",
   "execution_count": null,
   "id": "4a00282a",
   "metadata": {},
   "outputs": [],
   "source": [
    "import os"
   ]
  },
  {
   "cell_type": "code",
   "execution_count": null,
   "id": "ab76ec19",
   "metadata": {},
   "outputs": [],
   "source": [
    "with open('/medical-data/zsxm/e3v/resized_data/labels.txt', 'r') as f:\n",
    "    lines = f.readlines()\n",
    "\n",
    "label_dict = {}\n",
    "for line in lines:\n",
    "    video, label = line.split()\n",
    "    video = os.path.basename(video).lower()\n",
    "    label_dict[video] = label"
   ]
  },
  {
   "cell_type": "code",
   "execution_count": null,
   "id": "5f35dda6",
   "metadata": {},
   "outputs": [],
   "source": [
    "root = '/medical-data/zsxm/e3v/resized_data/'\n",
    "\n",
    "for cate in ['train', 'val', 'test']:\n",
    "    with open(os.path.join(root, f'{cate}_labels.txt'), 'w') as lf:\n",
    "        for video in sorted(os.listdir(os.path.join(root, cate))):\n",
    "            label = label_dict[video.lower()]\n",
    "            lf.write(f'{os.path.join(root, cate, video)}\\t{label}\\n')"
   ]
  },
  {
   "cell_type": "code",
   "execution_count": null,
   "id": "d62005b1",
   "metadata": {},
   "outputs": [],
   "source": [
    "from mmcv import load\n",
    "\n",
    "annotation = load('/medical-data/zsxm/e3v/resized_data/val_annotations_error.pkl')"
   ]
  },
  {
   "cell_type": "code",
   "execution_count": null,
   "id": "36c060f5",
   "metadata": {},
   "outputs": [],
   "source": [
    "print(annotation[0].keys())"
   ]
  },
  {
   "cell_type": "code",
   "execution_count": null,
   "id": "c731364a",
   "metadata": {},
   "outputs": [],
   "source": [
    "import os\n",
    "file_dir = set()\n",
    "for v in os.listdir('/medical-data/zsxm/e3v/resized_data/val/'):\n",
    "    file_dir.add(os.path.splitext(v.lower())[0])\n",
    "\n",
    "anno_dir = set()\n",
    "for it in annotation:\n",
    "    anno_dir.add(it['frame_dir'].lower())\n",
    "\n",
    "print(file_dir == anno_dir)"
   ]
  },
  {
   "cell_type": "code",
   "execution_count": null,
   "id": "dca8ef30",
   "metadata": {},
   "outputs": [],
   "source": [
    "annotation[0]['keypoint'].shape"
   ]
  },
  {
   "cell_type": "code",
   "execution_count": null,
   "id": "ff430412",
   "metadata": {},
   "outputs": [],
   "source": [
    "import numpy as np\n",
    "\n",
    "keypoint = annotation[1]['keypoint']\n",
    "print(annotation[1]['frame_dir'])"
   ]
  },
  {
   "cell_type": "code",
   "execution_count": null,
   "id": "1464cbf6",
   "metadata": {},
   "outputs": [],
   "source": [
    "offset = np.linalg.norm(np.diff(keypoint.astype(np.double), axis=2), ord=2, axis=3).sum(axis=-1).mean(axis=-1)\n",
    "print(offset)"
   ]
  },
  {
   "cell_type": "code",
   "execution_count": null,
   "id": "a3b3fd4f",
   "metadata": {},
   "outputs": [],
   "source": [
    "from pyskl.utils.visualize import Vis3DPose, Vis2DPose\n",
    "from mmcv import load\n",
    "\n",
    "annotation = load('examples/lwf_anno.pkl')\n",
    "anno = annotation[0]\n",
    "vid = Vis2DPose(anno, thre=0.2, out_shape=(480, 856), layout='coco', fps=15, video=None)\n",
    "vid.ipython_display(fps=15)"
   ]
  },
  {
   "cell_type": "code",
   "execution_count": null,
   "id": "fb316169",
   "metadata": {},
   "outputs": [],
   "source": [
    "import copy\n",
    "import numpy as np\n",
    "\n",
    "anno2 = copy.deepcopy(anno)\n",
    "\n",
    "offset = np.linalg.norm(np.diff(anno2['keypoint'].astype(np.double), axis=1), ord=2, axis=3).sum(axis=-1).mean(axis=-1)\n",
    "\n",
    "# kp = anno2['keypoint'].astype(np.double)\n",
    "# gravitycenter = kp.mean(axis=2, keepdims=True)\n",
    "# offset = np.linalg.norm(np.diff(kp-gravitycenter, axis=1), ord=2, axis=3).sum(axis=-1).mean(axis=-1)\n",
    "\n",
    "idx = np.argmax(offset)\n",
    "print(offset, idx)\n",
    "anno2['num_person_raw'] = 1\n",
    "anno2['keypoint'] = anno2['keypoint'][idx:idx+1]\n",
    "anno2['keypoint_score'] = anno2['keypoint_score'][idx:idx+1]\n",
    "vid = Vis2DPose(anno2, thre=0.2, out_shape=(480, 856), layout='coco', fps=15, video=None)\n",
    "vid.ipython_display()"
   ]
  },
  {
   "cell_type": "code",
   "execution_count": null,
   "id": "33c39d2d",
   "metadata": {},
   "outputs": [],
   "source": [
    "from mmcv import load, dump\n",
    "import numpy as np\n",
    "\n",
    "input_dir = '/medical-data/zsxm/e3v/resized_data/val_annotations_error.pkl'\n",
    "output_dir = '/medical-data/zsxm/e3v/resized_data/val_annotations_error_one.pkl'\n",
    "\n",
    "annotation = load(input_dir)\n",
    "for anno in annotation:\n",
    "    offset = np.linalg.norm(np.diff(anno['keypoint'].astype(np.double), axis=1), ord=2, axis=3).sum(axis=-1).mean(axis=-1)\n",
    "    idx = np.argmax(offset)\n",
    "    print(anno['frame_dir'], anno['num_person_raw'], offset, idx)\n",
    "    anno['keypoint'] = anno['keypoint'][idx:idx+1]\n",
    "    anno['keypoint_score'] = anno['keypoint_score'][idx:idx+1]\n",
    "    anno['num_person_raw'] = 1\n",
    "\n",
    "dump(annotation, output_dir)\n"
   ]
  },
  {
   "cell_type": "code",
   "execution_count": null,
   "id": "8032356e",
   "metadata": {},
   "outputs": [],
   "source": [
    "from mmcv import load, dump\n",
    "import numpy as np\n",
    "\n",
    "input_dir = '/medical-data/zsxm/e3v/resized_data/val_annotations_error.pkl'\n",
    "output_dir = '/medical-data/zsxm/e3v/resized_data/val_annotations_error_two.pkl'\n",
    "\n",
    "annotation = load(input_dir)\n",
    "for anno in annotation:\n",
    "    kp = anno['keypoint'].astype(np.double)\n",
    "    gravitycenter = kp.mean(axis=2, keepdims=True)\n",
    "    offset = np.linalg.norm(np.diff(kp-gravitycenter, axis=1), ord=2, axis=3).sum(axis=-1).mean(axis=-1)\n",
    "    idx = np.argmax(offset)\n",
    "    print(anno['frame_dir'], anno['num_person_raw'], offset, idx)\n",
    "    anno['keypoint'] = anno['keypoint'][idx:idx+1]\n",
    "    anno['keypoint_score'] = anno['keypoint_score'][idx:idx+1]\n",
    "    anno['num_person_raw'] = 1\n",
    "\n",
    "dump(annotation, output_dir)"
   ]
  },
  {
   "cell_type": "code",
   "execution_count": null,
   "id": "ca1116c3",
   "metadata": {},
   "outputs": [],
   "source": [
    "from mmcv import load, dump\n",
    "import os.path as osp\n",
    "\n",
    "root = '/medical-data/zsxm/e3v/resized_data/'\n",
    "\n",
    "cates = [\n",
    "    ('train', 'train_annotations_track.pkl'),\n",
    "    ('valid', 'val_annotations_track.pkl'),\n",
    "    ('test', 'test_annotations_track.pkl'),\n",
    "]\n",
    "\n",
    "annotations = []\n",
    "split = {}\n",
    "for c, cf in cates:\n",
    "    annos = load(osp.join(root, cf))\n",
    "    annotations.extend(annos)\n",
    "    split[c] = [x['frame_dir'] for x in annos]\n",
    "\n",
    "dump(dict(split=split, annotations=annotations), osp.join(root, 'annotations_track.pkl'))"
   ]
  },
  {
   "cell_type": "code",
   "execution_count": null,
   "id": "5a8c248c",
   "metadata": {},
   "outputs": [],
   "source": [
    "from mmcv import load, dump\n",
    "import os.path as osp\n",
    "root = '/medical-data/zsxm/e3v/resized_data/'\n",
    "dataset = load(osp.join(root, 'annotations_track.pkl'))"
   ]
  },
  {
   "cell_type": "code",
   "execution_count": null,
   "id": "671ddf2e",
   "metadata": {},
   "outputs": [],
   "source": [
    "dataset['split']['train'] = dataset['split']['train'][:100]\n",
    "dataset['split']['valid'] = dataset['split']['valid'][:100]\n",
    "dataset['split']['test'] = dataset['split']['test'][:100]"
   ]
  },
  {
   "cell_type": "code",
   "execution_count": null,
   "id": "640c8e36",
   "metadata": {},
   "outputs": [],
   "source": [
    "dump(dataset, osp.join(root, 'annotations_demo.pkl'))"
   ]
  },
  {
   "cell_type": "code",
   "execution_count": null,
   "id": "eea836b3",
   "metadata": {},
   "outputs": [],
   "source": [
    "from mmcv import load, dump\n",
    "import os.path as osp\n",
    "root = '/medical-data/zsxm/e3v/resized_data/'\n",
    "dataset = load(osp.join(root, 'annotations_track.pkl'))\n",
    "print(len(dataset['annotations']))\n",
    "print(dataset['annotations'][0].keys())\n",
    "print(dataset['annotations'][0]['total_frames'])\n",
    "print(dataset['annotations'][0]['keypoint'].shape)\n",
    "print(dataset['annotations'][0]['label'])"
   ]
  },
  {
   "cell_type": "code",
   "execution_count": null,
   "id": "8668811a",
   "metadata": {},
   "outputs": [],
   "source": [
    "from tqdm import tqdm\n",
    "for i in tqdm(range(len(dataset['annotations']))):\n",
    "    kp = dataset['annotations'][i]['keypoint']\n",
    "    kp_res = kp[:,1:] - kp[:,:-1]\n",
    "    dataset['annotations'][i]['keypoint'] = kp_res\n",
    "    dataset['annotations'][i]['total_frames'] = dataset['annotations'][i]['total_frames'] - 1\n",
    "    dataset['annotations'][i]['keypoint_score'] = dataset['annotations'][i]['keypoint_score'][:,1:]"
   ]
  },
  {
   "cell_type": "code",
   "execution_count": null,
   "id": "d98d0fec",
   "metadata": {},
   "outputs": [],
   "source": [
    "dump(dataset, osp.join(root, 'annotations_residual.pkl'))"
   ]
  },
  {
   "cell_type": "code",
   "execution_count": null,
   "id": "331d946c",
   "metadata": {},
   "outputs": [],
   "source": [
    "from mmcv import load, dump\n",
    "import os.path as osp\n",
    "from tqdm import tqdm\n",
    "\n",
    "root = '/medical-data/zsxm/e3v/resized_data/'\n",
    "dataset = load(osp.join(root, 'annotations_residual.pkl'))\n",
    "\n",
    "for i in tqdm(range(len(dataset['annotations']))):\n",
    "    print(dataset['annotations'][i]['total_frames'],dataset['annotations'][i]['keypoint'].shape,dataset['annotations'][i]['keypoint_score'].shape)"
   ]
  },
  {
   "cell_type": "code",
   "execution_count": 4,
   "id": "b9885acb",
   "metadata": {},
   "outputs": [
    {
     "name": "stdout",
     "output_type": "stream",
     "text": [
      "56578\n",
      "dict_keys(['frame_dir', 'label', 'img_shape', 'original_shape', 'total_frames', 'keypoint', 'keypoint_score'])\n",
      "103\n",
      "(1, 103, 17, 2)\n",
      "0\n"
     ]
    },
    {
     "name": "stderr",
     "output_type": "stream",
     "text": [
      "100%|██████████| 56578/56578 [00:00<00:00, 2944673.30it/s]\n"
     ]
    }
   ],
   "source": [
    "from mmcv import load, dump\n",
    "import os.path as osp\n",
    "from tqdm import tqdm\n",
    "\n",
    "root = '/medical-data/zsxm/e3v/resized_data/'\n",
    "dataset = load(osp.join(root, 'ntu60_hrnet.pkl'))\n",
    "\n",
    "print(len(dataset['annotations']))\n",
    "print(dataset['annotations'][0].keys())\n",
    "print(dataset['annotations'][0]['total_frames'])\n",
    "print(dataset['annotations'][0]['keypoint'].shape)\n",
    "print(dataset['annotations'][0]['label'])\n",
    "\n",
    "for i in tqdm(range(len(dataset['annotations']))):\n",
    "    if dataset['annotations'][0]['keypoint'].shape[0] > 1:\n",
    "        print(dataset['annotations'][0]['keypoint'].shape, dataset['annotations'][0]['label'])"
   ]
  },
  {
   "cell_type": "code",
   "execution_count": 10,
   "id": "183c24cb",
   "metadata": {},
   "outputs": [
    {
     "name": "stdout",
     "output_type": "stream",
     "text": [
      "tensor(0.0360)\n"
     ]
    }
   ],
   "source": [
    "import torch\n",
    "import json\n",
    "loss = []\n",
    "for line in open('work_dirs/e3v/stgcn++/bm/20230515_084932.log.json', 'r', encoding='utf-8'):\n",
    "    js = json.loads(line)\n",
    "    if 'mode' in js and js['mode'] == 'train' and js['epoch'] == 50:\n",
    "        loss.append(js['loss'])\n",
    "print(torch.tensor(loss).mean())"
   ]
  },
  {
   "cell_type": "code",
   "execution_count": null,
   "id": "0a0ec784",
   "metadata": {},
   "outputs": [],
   "source": []
  }
 ],
 "metadata": {
  "kernelspec": {
   "display_name": "Python 3 (ipykernel)",
   "language": "python",
   "name": "python3"
  },
  "language_info": {
   "codemirror_mode": {
    "name": "ipython",
    "version": 3
   },
   "file_extension": ".py",
   "mimetype": "text/x-python",
   "name": "python",
   "nbconvert_exporter": "python",
   "pygments_lexer": "ipython3",
   "version": "3.7.11"
  },
  "vscode": {
   "interpreter": {
    "hash": "c270ba2eaa5cc8573ee32bdf01b929c511515d3c1dc6086194f2e26839ca8333"
   }
  }
 },
 "nbformat": 4,
 "nbformat_minor": 5
}
